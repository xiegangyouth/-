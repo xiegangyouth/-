{
 "cells": [
  {
   "cell_type": "code",
   "execution_count": 1,
   "id": "cc8d0835",
   "metadata": {},
   "outputs": [
    {
     "name": "stderr",
     "output_type": "stream",
     "text": [
      "2022-03-15 16:36:43.994621: I tensorflow/stream_executor/platform/default/dso_loader.cc:48] Successfully opened dynamic library libcudart.so.10.1\n"
     ]
    }
   ],
   "source": [
    "from tensorflow.keras import layers, models, Model, Sequential"
   ]
  },
  {
   "cell_type": "markdown",
   "id": "52dc8e16",
   "metadata": {},
   "source": [
    "![TensorFlow中padding讲解](https://s2.loli.net/2022/03/11/Pw9GLDY1SiWsXrE.png)"
   ]
  },
  {
   "cell_type": "code",
   "execution_count": 2,
   "id": "2ed06bd4",
   "metadata": {},
   "outputs": [],
   "source": [
    "\"\"\"\n",
    "Keras Functional API模式定义模型:https://www.jianshu.com/p/90132fdb9a4a(详解)\n",
    "\"\"\"\n",
    "def AlexNet_v1(im_height=224, im_width=224, num_classes=1000):\n",
    "    # 1.首先你需要定义一个输入(tensorflow中tensor的通道排序是NHWC):\n",
    "    input_image = layers.Input(shape=(im_height, im_width, 3), dtype='float32') # output[None, 224, 224, 3]\n",
    "    \n",
    "    # 2.其次，定义输出：\n",
    "    '''\n",
    "    1）layers.ZeroPadding2D详解：\n",
    "    ① https://blog.csdn.net/weixin_43533058/article/details/109221535\n",
    "    ② https://www.cnblogs.com/LGJC1314/p/13403811.html\n",
    "    2）为什么要进行手动为图像进行padding处理，而不采用TensorFlow默认的padding方式(即'valid'or'same')？\n",
    "    ①原因见上图；\n",
    "    ②手动padding之后，图像尺寸由[224, 224]变为了[227, 227]，\n",
    "    此时运用padding='VALID'方式，可算出(227-11+1)/4=54.5→向上取整，成功得到55的尺寸。\n",
    "    '''\n",
    "    x = layers.ZeroPadding2D(((1, 2), (1, 2)))(input_image) # output[None, 227, 227, 3]\n",
    "    \n",
    "    x = layers.Conv2D(48, kernel_size=11, strides=4, activation='relu')(x) # output[None, 55, 55, 48]\n",
    "    x = layers.MaxPool2D(pool_size=3, strides=2)(x) # output[None, 27, 27, 48]\n",
    "    \n",
    "    x = layers.Conv2D(128, kernel_size=3, strides=1, padding='same',activation='relu')(x) # output[None, 27, 27, 128]\n",
    "    x = layers.MaxPool2D(pool_size=3, strides=2)(x) # output[None, 13, 13, 48]\n",
    "\n",
    "    x = layers.Conv2D(192, kernel_size=3, strides=1, padding='same',activation='relu')(x) # output[None, 13, 13, 192]\n",
    "    x = layers.Conv2D(192, kernel_size=3, strides=1, padding='same',activation='relu')(x) # output[None, 13, 13, 192]\n",
    "    x = layers.Conv2D(128, kernel_size=3, strides=1, padding='same',activation='relu')(x) # output[None, 13, 13, 128]\n",
    "    x = layers.MaxPool2D(pool_size=3, strides=2)(x) # output[None, 6, 6, 128]\n",
    "    \n",
    "    x = layers.Flatten()(x) # output[None, 6*6*128]\n",
    "    x = layers.Dropout(0.2)(x)\n",
    "    x = layers.Dense(2048, activation='relu')(x) # output[None, 2048]\n",
    "    x = layers.Dropout(0.2)(x)\n",
    "    x = layers.Dense(2048, activation='relu')(x) # output[None, 2048]\n",
    "    x = layers.Dense(num_classes)(x) # output[None, num_class]\n",
    "    prediction = layers.Softmax()(x)\n",
    "    \n",
    "    # 3.创建模型\n",
    "    model = models.Model(inputs=input_image, outputs=prediction)\n",
    "    return model"
   ]
  },
  {
   "cell_type": "code",
   "execution_count": 3,
   "id": "a85a74fc",
   "metadata": {},
   "outputs": [],
   "source": [
    "\"\"\"\n",
    "贯序模型\n",
    "\"\"\"\n",
    "class AlexNet_v2(Model):\n",
    "    def __init__(self, num_classes=1000):\n",
    "        super(AlexNet_v2, self).__init__()\n",
    "        self.features = Sequential([\n",
    "            layers.ZeroPadding2D(((1, 2), (1, 2))), # output(None, 227, 227, 3)\n",
    "            \n",
    "            layers.Conv2D(48, kernel_size=11, strides=4, activation=\"relu\"), # output(None, 55, 55, 48)\n",
    "            layers.MaxPool2D(pool_size=3, strides=2), # output(None, 27, 27, 48)\n",
    "            layers.Conv2D(128, kernel_size=5, padding=\"same\", activation=\"relu\"), # output(None, 27, 27, 128)\n",
    "            layers.MaxPool2D(pool_size=3, strides=2), # output(None, 13, 13, 128)\n",
    "            layers.Conv2D(192, kernel_size=3, padding=\"same\", activation=\"relu\"), # output(None, 13, 13, 192)\n",
    "            layers.Conv2D(192, kernel_size=3, padding=\"same\", activation=\"relu\"), # output(None, 13, 13, 192)\n",
    "            layers.Conv2D(128, kernel_size=3, padding=\"same\", activation=\"relu\"), # output(None, 13, 13, 128)\n",
    "            layers.MaxPool2D(pool_size=3, strides=2) # output(None, 6, 6, 128)\n",
    "        ])\n",
    "\n",
    "        self.classifer = Sequential([\n",
    "            layers.Dropout(0.2),\n",
    "            layers.Dense(1024, activation=\"relu\"), # output(None, 2048)\n",
    "            layers.Dropout(0.2),\n",
    "            layers.Dense(128, activation=\"relu\"), # output(None, 2048)\n",
    "            layers.Dense(num_classes), # output(None, 5)\n",
    "            layers.Softmax()\n",
    "        ])\n",
    "    \n",
    "    def call(self, inputs, **kwargs):\n",
    "        x = self.features(inputs)\n",
    "        x = layers.Flatten()(x) # output[None, 6*6*128]\n",
    "        x = self.classifer(x)\n",
    "        return x"
   ]
  },
  {
   "cell_type": "code",
   "execution_count": null,
   "id": "e9f0bae8",
   "metadata": {},
   "outputs": [],
   "source": []
  }
 ],
 "metadata": {
  "kernelspec": {
   "display_name": "tf_ljl",
   "language": "python",
   "name": "tf_ljl"
  },
  "language_info": {
   "codemirror_mode": {
    "name": "ipython",
    "version": 3
   },
   "file_extension": ".py",
   "mimetype": "text/x-python",
   "name": "python",
   "nbconvert_exporter": "python",
   "pygments_lexer": "ipython3",
   "version": "3.7.11"
  }
 },
 "nbformat": 4,
 "nbformat_minor": 5
}
