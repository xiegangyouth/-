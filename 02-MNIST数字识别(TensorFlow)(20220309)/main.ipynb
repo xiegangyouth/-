{
 "cells": [
  {
   "cell_type": "code",
   "execution_count": 1,
   "id": "a31d1c56",
   "metadata": {},
   "outputs": [
    {
     "name": "stderr",
     "output_type": "stream",
     "text": [
      "2022-03-09 15:34:28.120230: I tensorflow/stream_executor/platform/default/dso_loader.cc:48] Successfully opened dynamic library libcudart.so.10.1\n"
     ]
    }
   ],
   "source": [
    "from tensorflow.keras.layers import Dense, Flatten, Conv2D\n",
    "from tensorflow.keras import Model\n",
    "import tensorflow as tf\n",
    "import numpy as np\n",
    "import matplotlib.pyplot as plt\n",
    "%matplotlib inline"
   ]
  },
  {
   "cell_type": "code",
   "execution_count": 2,
   "id": "384d31ff",
   "metadata": {},
   "outputs": [],
   "source": [
    "# 定义模型\n",
    "class MyModel(Model):\n",
    "    def __init__(self):\n",
    "        super(MyModel, self).__init__()\n",
    "        self.conv1 = Conv2D(filters=32, kernel_size=3, activation='relu')\n",
    "        self.flatten = Flatten()\n",
    "        self.d1 = Dense(128, activation='relu')\n",
    "        self.d2 = Dense(10, activation='softmax')\n",
    "    \n",
    "    def call(self, x): # [batch, 28, 28, 1]\n",
    "        x = self.conv1(x) # [batch, 26, 26, 32]\n",
    "        x = self.flatten(x) # [batch, 26*26*32]\n",
    "        x = self.d1(x) # [batch, 128]\n",
    "        x = self.d2(x) # [batch, 10]\n",
    "        return x"
   ]
  },
  {
   "cell_type": "code",
   "execution_count": 14,
   "id": "d0ea7927",
   "metadata": {},
   "outputs": [],
   "source": [
    "# 加载数据集\n",
    "mnist = tf.keras.datasets.mnist\n",
    "\n",
    "(x_train, y_train), (x_test, y_test) = mnist.load_data(\n",
    "    path=r'/media/hzau/cee8e857-7d9f-4e4c-87f3-e0914d604e8d/LiJiuLiang/001-JN_TensorFlow_env/Untitled Folder/dataset/mnist.npz')\n",
    "\n",
    "x_train, x_test = x_train / 255.0, x_test / 255.0 # 归一化：将每张图像中的每个像素值转换为0.0 – 1.0之间的浮点数"
   ]
  },
  {
   "cell_type": "code",
   "execution_count": 4,
   "id": "066542c0",
   "metadata": {},
   "outputs": [
    {
     "name": "stdout",
     "output_type": "stream",
     "text": [
      "[7 2 1]\n"
     ]
    },
    {
     "data": {
      "text/plain": [
       "<matplotlib.image.AxesImage at 0x7ff184c6dc50>"
      ]
     },
     "execution_count": 4,
     "metadata": {},
     "output_type": "execute_result"
    },
    {
     "data": {
      "image/png": "[encoded data removed]",
      "text/plain": [
       "<Figure size 432x288 with 1 Axes>"
      ]
     },
     "metadata": {
      "needs_background": "light"
     },
     "output_type": "display_data"
    }
   ],
   "source": [
    "imgs = x_test[:3]\n",
    "labs = y_test[:3]\n",
    "print(labs)\n",
    "plt.imshow(np.hstack(imgs), cmap='gray')"
   ]
  },
  {
   "cell_type": "code",
   "execution_count": 5,
   "id": "63b174da",
   "metadata": {},
   "outputs": [
    {
     "name": "stdout",
     "output_type": "stream",
     "text": [
      "before shape : (60000, 28, 28) \n"
     ]
    },
    {
     "name": "stderr",
     "output_type": "stream",
     "text": [
      "2022-03-09 15:34:29.947779: I tensorflow/stream_executor/platform/default/dso_loader.cc:48] Successfully opened dynamic library libcuda.so.1\n",
      "2022-03-09 15:34:31.104304: I tensorflow/stream_executor/cuda/cuda_gpu_executor.cc:982] successful NUMA node read from SysFS had negative value (-1), but there must be at least one NUMA node, so returning NUMA node zero\n",
      "2022-03-09 15:34:31.104856: I tensorflow/core/common_runtime/gpu/gpu_device.cc:1716] Found device 0 with properties: \n",
      "pciBusID: 0000:01:00.0 name: NVIDIA GeForce RTX 2080 Ti computeCapability: 7.5\n",
      "coreClock: 1.545GHz coreCount: 68 deviceMemorySize: 10.76GiB deviceMemoryBandwidth: 573.69GiB/s\n",
      "2022-03-09 15:34:31.104895: I tensorflow/stream_executor/cuda/cuda_gpu_executor.cc:982] successful NUMA node read from SysFS had negative value (-1), but there must be at least one NUMA node, so returning NUMA node zero\n",
      "2022-03-09 15:34:31.105329: I tensorflow/core/common_runtime/gpu/gpu_device.cc:1716] Found device 1 with properties: \n",
      "pciBusID: 0000:02:00.0 name: NVIDIA GeForce RTX 2080 Ti computeCapability: 7.5\n",
      "coreClock: 1.545GHz coreCount: 68 deviceMemorySize: 10.76GiB deviceMemoryBandwidth: 573.69GiB/s\n",
      "2022-03-09 15:34:31.105343: I tensorflow/stream_executor/platform/default/dso_loader.cc:48] Successfully opened dynamic library libcudart.so.10.1\n",
      "2022-03-09 15:34:31.106226: I tensorflow/stream_executor/platform/default/dso_loader.cc:48] Successfully opened dynamic library libcublas.so.10\n",
      "2022-03-09 15:34:31.106872: I tensorflow/stream_executor/platform/default/dso_loader.cc:48] Successfully opened dynamic library libcufft.so.10\n",
      "2022-03-09 15:34:31.107037: I tensorflow/stream_executor/platform/default/dso_loader.cc:48] Successfully opened dynamic library libcurand.so.10\n",
      "2022-03-09 15:34:31.107981: I tensorflow/stream_executor/platform/default/dso_loader.cc:48] Successfully opened dynamic library libcusolver.so.10\n",
      "2022-03-09 15:34:31.108752: I tensorflow/stream_executor/platform/default/dso_loader.cc:48] Successfully opened dynamic library libcusparse.so.10\n",
      "2022-03-09 15:34:31.110982: I tensorflow/stream_executor/platform/default/dso_loader.cc:48] Successfully opened dynamic library libcudnn.so.7\n",
      "2022-03-09 15:34:31.111041: I tensorflow/stream_executor/cuda/cuda_gpu_executor.cc:982] successful NUMA node read from SysFS had negative value (-1), but there must be at least one NUMA node, so returning NUMA node zero\n",
      "2022-03-09 15:34:31.111518: I tensorflow/stream_executor/cuda/cuda_gpu_executor.cc:982] successful NUMA node read from SysFS had negative value (-1), but there must be at least one NUMA node, so returning NUMA node zero\n",
      "2022-03-09 15:34:31.111975: I tensorflow/stream_executor/cuda/cuda_gpu_executor.cc:982] successful NUMA node read from SysFS had negative value (-1), but there must be at least one NUMA node, so returning NUMA node zero\n",
      "2022-03-09 15:34:31.112473: I tensorflow/stream_executor/cuda/cuda_gpu_executor.cc:982] successful NUMA node read from SysFS had negative value (-1), but there must be at least one NUMA node, so returning NUMA node zero\n",
      "2022-03-09 15:34:31.112964: I tensorflow/core/common_runtime/gpu/gpu_device.cc:1858] Adding visible gpu devices: 0, 1\n",
      "2022-03-09 15:34:31.114038: I tensorflow/core/platform/cpu_feature_guard.cc:142] This TensorFlow binary is optimized with oneAPI Deep Neural Network Library (oneDNN)to use the following CPU instructions in performance-critical operations:  AVX2 FMA\n",
      "To enable them in other operations, rebuild TensorFlow with the appropriate compiler flags.\n",
      "2022-03-09 15:34:31.136791: I tensorflow/core/platform/profile_utils/cpu_utils.cc:104] CPU Frequency: 3600000000 Hz\n",
      "2022-03-09 15:34:31.137817: I tensorflow/compiler/xla/service/service.cc:168] XLA service 0x55cd5a8b66e0 initialized for platform Host (this does not guarantee that XLA will be used). Devices:\n",
      "2022-03-09 15:34:31.137833: I tensorflow/compiler/xla/service/service.cc:176]   StreamExecutor device (0): Host, Default Version\n",
      "2022-03-09 15:34:31.238667: I tensorflow/stream_executor/cuda/cuda_gpu_executor.cc:982] successful NUMA node read from SysFS had negative value (-1), but there must be at least one NUMA node, so returning NUMA node zero\n",
      "2022-03-09 15:34:31.246972: I tensorflow/stream_executor/cuda/cuda_gpu_executor.cc:982] successful NUMA node read from SysFS had negative value (-1), but there must be at least one NUMA node, so returning NUMA node zero\n",
      "2022-03-09 15:34:31.247664: I tensorflow/compiler/xla/service/service.cc:168] XLA service 0x55cd5a922a50 initialized for platform CUDA (this does not guarantee that XLA will be used). Devices:\n",
      "2022-03-09 15:34:31.247677: I tensorflow/compiler/xla/service/service.cc:176]   StreamExecutor device (0): NVIDIA GeForce RTX 2080 Ti, Compute Capability 7.5\n",
      "2022-03-09 15:34:31.247682: I tensorflow/compiler/xla/service/service.cc:176]   StreamExecutor device (1): NVIDIA GeForce RTX 2080 Ti, Compute Capability 7.5\n",
      "2022-03-09 15:34:31.247984: I tensorflow/stream_executor/cuda/cuda_gpu_executor.cc:982] successful NUMA node read from SysFS had negative value (-1), but there must be at least one NUMA node, so returning NUMA node zero\n",
      "2022-03-09 15:34:31.248554: I tensorflow/core/common_runtime/gpu/gpu_device.cc:1716] Found device 0 with properties: \n",
      "pciBusID: 0000:01:00.0 name: NVIDIA GeForce RTX 2080 Ti computeCapability: 7.5\n",
      "coreClock: 1.545GHz coreCount: 68 deviceMemorySize: 10.76GiB deviceMemoryBandwidth: 573.69GiB/s\n",
      "2022-03-09 15:34:31.248618: I tensorflow/stream_executor/cuda/cuda_gpu_executor.cc:982] successful NUMA node read from SysFS had negative value (-1), but there must be at least one NUMA node, so returning NUMA node zero\n",
      "2022-03-09 15:34:31.249170: I tensorflow/core/common_runtime/gpu/gpu_device.cc:1716] Found device 1 with properties: \n",
      "pciBusID: 0000:02:00.0 name: NVIDIA GeForce RTX 2080 Ti computeCapability: 7.5\n",
      "coreClock: 1.545GHz coreCount: 68 deviceMemorySize: 10.76GiB deviceMemoryBandwidth: 573.69GiB/s\n",
      "2022-03-09 15:34:31.249190: I tensorflow/stream_executor/platform/default/dso_loader.cc:48] Successfully opened dynamic library libcudart.so.10.1\n",
      "2022-03-09 15:34:31.249206: I tensorflow/stream_executor/platform/default/dso_loader.cc:48] Successfully opened dynamic library libcublas.so.10\n",
      "2022-03-09 15:34:31.249219: I tensorflow/stream_executor/platform/default/dso_loader.cc:48] Successfully opened dynamic library libcufft.so.10\n",
      "2022-03-09 15:34:31.249230: I tensorflow/stream_executor/platform/default/dso_loader.cc:48] Successfully opened dynamic library libcurand.so.10\n",
      "2022-03-09 15:34:31.249240: I tensorflow/stream_executor/platform/default/dso_loader.cc:48] Successfully opened dynamic library libcusolver.so.10\n",
      "2022-03-09 15:34:31.249251: I tensorflow/stream_executor/platform/default/dso_loader.cc:48] Successfully opened dynamic library libcusparse.so.10\n",
      "2022-03-09 15:34:31.249263: I tensorflow/stream_executor/platform/default/dso_loader.cc:48] Successfully opened dynamic library libcudnn.so.7\n",
      "2022-03-09 15:34:31.249302: I tensorflow/stream_executor/cuda/cuda_gpu_executor.cc:982] successful NUMA node read from SysFS had negative value (-1), but there must be at least one NUMA node, so returning NUMA node zero\n",
      "2022-03-09 15:34:31.249882: I tensorflow/stream_executor/cuda/cuda_gpu_executor.cc:982] successful NUMA node read from SysFS had negative value (-1), but there must be at least one NUMA node, so returning NUMA node zero\n",
      "2022-03-09 15:34:31.250456: I tensorflow/stream_executor/cuda/cuda_gpu_executor.cc:982] successful NUMA node read from SysFS had negative value (-1), but there must be at least one NUMA node, so returning NUMA node zero\n",
      "2022-03-09 15:34:31.251028: I tensorflow/stream_executor/cuda/cuda_gpu_executor.cc:982] successful NUMA node read from SysFS had negative value (-1), but there must be at least one NUMA node, so returning NUMA node zero\n",
      "2022-03-09 15:34:31.251575: I tensorflow/core/common_runtime/gpu/gpu_device.cc:1858] Adding visible gpu devices: 0, 1\n",
      "2022-03-09 15:34:31.251600: I tensorflow/stream_executor/platform/default/dso_loader.cc:48] Successfully opened dynamic library libcudart.so.10.1\n",
      "2022-03-09 15:34:31.792374: I tensorflow/core/common_runtime/gpu/gpu_device.cc:1257] Device interconnect StreamExecutor with strength 1 edge matrix:\n",
      "2022-03-09 15:34:31.792396: I tensorflow/core/common_runtime/gpu/gpu_device.cc:1263]      0 1 \n",
      "2022-03-09 15:34:31.792400: I tensorflow/core/common_runtime/gpu/gpu_device.cc:1276] 0:   N N \n",
      "2022-03-09 15:34:31.792403: I tensorflow/core/common_runtime/gpu/gpu_device.cc:1276] 1:   N N \n",
      "2022-03-09 15:34:31.792553: I tensorflow/stream_executor/cuda/cuda_gpu_executor.cc:982] successful NUMA node read from SysFS had negative value (-1), but there must be at least one NUMA node, so returning NUMA node zero\n",
      "2022-03-09 15:34:31.793070: I tensorflow/stream_executor/cuda/cuda_gpu_executor.cc:982] successful NUMA node read from SysFS had negative value (-1), but there must be at least one NUMA node, so returning NUMA node zero\n",
      "2022-03-09 15:34:31.793502: I tensorflow/stream_executor/cuda/cuda_gpu_executor.cc:982] successful NUMA node read from SysFS had negative value (-1), but there must be at least one NUMA node, so returning NUMA node zero\n",
      "2022-03-09 15:34:31.793959: I tensorflow/core/common_runtime/gpu/gpu_device.cc:1402] Created TensorFlow device (/job:localhost/replica:0/task:0/device:GPU:0 with 10076 MB memory) -> physical GPU (device: 0, name: NVIDIA GeForce RTX 2080 Ti, pci bus id: 0000:01:00.0, compute capability: 7.5)\n",
      "2022-03-09 15:34:31.794299: I tensorflow/stream_executor/cuda/cuda_gpu_executor.cc:982] successful NUMA node read from SysFS had negative value (-1), but there must be at least one NUMA node, so returning NUMA node zero\n",
      "2022-03-09 15:34:31.794719: I tensorflow/core/common_runtime/gpu/gpu_device.cc:1402] Created TensorFlow device (/job:localhost/replica:0/task:0/device:GPU:1 with 10076 MB memory) -> physical GPU (device: 1, name: NVIDIA GeForce RTX 2080 Ti, pci bus id: 0000:02:00.0, compute capability: 7.5)\n"
     ]
    },
    {
     "name": "stdout",
     "output_type": "stream",
     "text": [
      "after shape : (60000, 28, 28, 1) \n"
     ]
    }
   ],
   "source": [
    "# 将输入数据的维度与tensorflow中tensor要求的输入维度进行匹配\n",
    "\"\"\"\n",
    "由于tensorflow中tensor的通道排序为[batch, height, width, channel]，\n",
    "而mnist数据集是灰度图像（通道排序为[batch, height, width]）\n",
    "所以需要为其增加一个维度，以此符合tensorflow中tensor的通道格式\n",
    "\"\"\"\n",
    "print(f\"before shape : {x_train.shape} \")\n",
    "\n",
    "x_train = tf.expand_dims(x_train, -1) #-1表示最后一维\n",
    "x_test = tf.expand_dims(x_test, -1) #-1表示最后一维\n",
    "\n",
    "# 也可通过：x_train = xtrain[..., tf.newaxis]实现相同效果\n",
    "print(f\"after shape : {x_train.shape} \")\n"
   ]
  },
  {
   "cell_type": "code",
   "execution_count": 6,
   "id": "037a2fbf",
   "metadata": {},
   "outputs": [],
   "source": [
    "# 搭建数据生成器data generator\n",
    "\n",
    "\"\"\"\n",
    "1.data.Dataset.from_tensor_slices: 把给定的元组、列表和张量等数据进行特征切片\n",
    "2.shuffle(1000).batch(32) :先将10000张图片读入内存并随机打乱，然后随机采样32张图片\n",
    "\"\"\"\n",
    "train_ds = tf.data.Dataset.from_tensor_slices((x_train, y_train)).shuffle(1000).batch(32) \n",
    "test_ds = tf.data.Dataset.from_tensor_slices((x_test, y_test)).batch(32) "
   ]
  },
  {
   "cell_type": "code",
   "execution_count": 7,
   "id": "47452e6a",
   "metadata": {},
   "outputs": [],
   "source": [
    "# 实例化模型\n",
    "model = MyModel()"
   ]
  },
  {
   "cell_type": "code",
   "execution_count": 8,
   "id": "41d3255b",
   "metadata": {},
   "outputs": [],
   "source": [
    "# 定义损失函数\n",
    "# SparseCategoricalCrossentropy讲解 :http://www.360doc.com/content/22/0109/12/32196507_1012511560.shtml\n",
    "loss_object = tf.keras.losses.SparseCategoricalCrossentropy() \n",
    "\n",
    "# 定义优化器\n",
    "optimizer = tf.keras.optimizers.Adam()"
   ]
  },
  {
   "cell_type": "code",
   "execution_count": 9,
   "id": "2f7d80a5",
   "metadata": {},
   "outputs": [],
   "source": [
    "# 定义训练过程每一轮loss和accuracy的计算方法\n",
    "train_loss = tf.keras.metrics.Mean(name='train_loss')\n",
    "train_accuracy = tf.keras.metrics.SparseCategoricalAccuracy(name='train_accuracy')\n",
    "\n",
    "# 定义测试过程每一轮loss和accuracy的计算方法\n",
    "test_loss = tf.keras.metrics.Mean(name='test_loss')\n",
    "test_accuracy = tf.keras.metrics.SparseCategoricalAccuracy(name='test_accuracy')"
   ]
  },
  {
   "cell_type": "code",
   "execution_count": 10,
   "id": "a5c71bc3",
   "metadata": {},
   "outputs": [],
   "source": [
    "\"\"\"\n",
    "@tf.function装饰器（构造高效的python代码）\n",
    "将python代码转为tensorflow的图结构，能够在GPU、TPU上运算\n",
    "详解：https://www.bilibili.com/read/cv12856573\n",
    "\"\"\"\n",
    "\n",
    "# 定义训练函数\n",
    "@tf.function\n",
    "def train_step(images, labels):\n",
    "    with tf.GradientTape() as tape:\n",
    "        predictions = model(images)\n",
    "        loss = loss_object(labels, predictions)\n",
    "    gradient = tape.gradient(loss, model.trainable_variables)#将loss反向传播到模型中每一个可训练参数中\n",
    "    optimizer.apply_gradients(zip(gradient, model.trainable_variables)) #根据梯度更新可训练参数的值\n",
    "    \n",
    "    train_loss(loss) # 计算该epoch的loss\n",
    "    train_accuracy(labels, predictions) #计算该epoch的准确率\n",
    "\n",
    "# 定义测试函数(注：测试过程不需要进行反向传播)\n",
    "@tf.function\n",
    "def test_step(images, labels):\n",
    "    predictions = model(images)\n",
    "    loss = loss_object(labels, predictions)\n",
    "    \n",
    "    test_loss(loss) # 计算该epoch的loss\n",
    "    test_accuracy(labels, predictions) #计算该epoch的准确率"
   ]
  },
  {
   "cell_type": "code",
   "execution_count": 13,
   "id": "185a625e",
   "metadata": {},
   "outputs": [
    {
     "name": "stdout",
     "output_type": "stream",
     "text": [
      "Epoch:1\n",
      "Train Loss:0.003962575923651457, Train Accuracy:99.88333892822266%\n",
      "Test Loss:0.08153823763132095, Test Accuracy:98.5%.\n",
      "*****************\n",
      "Epoch:2\n",
      "Train Loss:0.0030610612593591213, Train Accuracy:99.9000015258789%\n",
      "Test Loss:0.09736378490924835, Test Accuracy:98.30999755859375%.\n",
      "*****************\n",
      "Epoch:3\n",
      "Train Loss:0.0027011826168745756, Train Accuracy:99.91000366210938%\n",
      "Test Loss:0.11123457551002502, Test Accuracy:98.30999755859375%.\n",
      "*****************\n",
      "Epoch:4\n",
      "Train Loss:0.0031161783263087273, Train Accuracy:99.89833068847656%\n",
      "Test Loss:0.12009736895561218, Test Accuracy:98.1500015258789%.\n",
      "*****************\n",
      "Epoch:5\n",
      "Train Loss:0.003336116438731551, Train Accuracy:99.88500213623047%\n",
      "Test Loss:0.098333440721035, Test Accuracy:98.43000030517578%.\n",
      "*****************\n"
     ]
    }
   ],
   "source": [
    "epochs = 5\n",
    "\n",
    "for epoch in range(epochs):\n",
    "    # 清零\n",
    "    train_loss.reset_states()\n",
    "    train_accuracy.reset_states()\n",
    "    test_loss.reset_states()\n",
    "    test_accuracy.reset_states()\n",
    "    \n",
    "    for images, labels in train_ds:\n",
    "        train_step(images, labels)\n",
    "    \n",
    "    for images, labels in test_ds:\n",
    "        test_step(images, labels)\n",
    "    \n",
    "    template = \"Epoch:{}\\nTrain Loss:{}, Train Accuracy:{}%\\nTest Loss:{}, Test Accuracy:{}%.\\n*****************\"\n",
    "    print(template.format(\n",
    "        epoch + 1,\n",
    "        train_loss.result(),\n",
    "        train_accuracy.result() * 100,\n",
    "        test_loss.result(),\n",
    "        test_accuracy.result() * 100\n",
    "    ))"
   ]
  },
  {
   "cell_type": "code",
   "execution_count": null,
   "id": "4ecf68b3",
   "metadata": {},
   "outputs": [],
   "source": []
  }
 ],
 "metadata": {
  "kernelspec": {
   "display_name": "Python 3",
   "language": "python",
   "name": "python3"
  },
  "language_info": {
   "codemirror_mode": {
    "name": "ipython",
    "version": 3
   },
   "file_extension": ".py",
   "mimetype": "text/x-python",
   "name": "python",
   "nbconvert_exporter": "python",
   "pygments_lexer": "ipython3",
   "version": "3.7.11"
  }
 },
 "nbformat": 4,
 "nbformat_minor": 5
}
