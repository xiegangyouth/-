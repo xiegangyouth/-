{
 "cells": [
  {
   "cell_type": "code",
   "execution_count": 1,
   "metadata": {},
   "outputs": [
    {
     "name": "stdout",
     "output_type": "stream",
     "text": [
      "importing Jupyter notebook from getCifarImg2Disk.ipynb\n"
     ]
    }
   ],
   "source": [
    "import Ipynb_importer\n",
    "import glob\n",
    "from PIL import Image\n",
    "from getCifarImg2Disk import LOAD_CIFAR_LABELS\n",
    "from torch.utils.data import Dataset, DataLoader\n",
    "from torchvision import transforms"
   ]
  },
  {
   "cell_type": "code",
   "execution_count": 2,
   "metadata": {},
   "outputs": [],
   "source": [
    "\"\"\"\n",
    "获取标签集\n",
    "\"\"\"\n",
    "root_path = './data/cifar-10-batches-py/'\n",
    "file_name = 'batches.meta'\n",
    "label_name = LOAD_CIFAR_LABELS(root_path + file_name)\n",
    "label_idx = [id for id in range(len(label_name))]\n",
    "label_dict = dict(zip(label_name, label_idx))"
   ]
  },
  {
   "cell_type": "code",
   "execution_count": 3,
   "metadata": {},
   "outputs": [],
   "source": [
    "\"\"\"\n",
    "定义myDataset类\n",
    "\"\"\"\n",
    "def default_loader(path):\n",
    "    return Image.open(path).convert(\"RGB\") #将PIL转为RGB格式\n",
    "\n",
    "class myDataset(Dataset):\n",
    "    def __init__(self, img_list, transform = None, loader = default_loader):\n",
    "        super(myDataset, self).__init__()\n",
    "        imgPaths = [] # 存储所有的图片路径\n",
    "        labelIndice = [] #存储全部的标签索引\n",
    "\n",
    "\n",
    "        for img_item in img_list:\n",
    "            img_label_name = img_item.split(\"/\")[-2] #获取图片标签名称\n",
    "            \"\"\"\n",
    "            注意：python路径中分隔符默认为\"/\"，window系统中路径中分隔符为“\\”，window系统下 glob.glob（）返回的文件路径为\"\\\\\"，并将“\\”转变为“\\\\”,不会改变路径中的\"/\"\n",
    "            \"\"\"\n",
    "            imgPaths.append(img_item)\n",
    "            labelIndice.append(label_dict[img_label_name])\n",
    "\n",
    "        self.imgPaths = imgPaths\n",
    "        self.labelIndice = labelIndice\n",
    "        self.transform = transform\n",
    "        self.loader = loader\n",
    "\n",
    "    def __getitem__(self, index):\n",
    "        img_path = self.imgPaths[index]\n",
    "        img_label = self.labelIndice[index]\n",
    "        img_data = self.loader(img_path)\n",
    "        if self.transform is not None:\n",
    "            img_data = self.transform(img_data)\n",
    "        return img_data, img_label\n",
    "\n",
    "    def __len__(self):\n",
    "        return len(self.imgPaths)"
   ]
  },
  {
   "cell_type": "code",
   "execution_count": null,
   "metadata": {},
   "outputs": [],
   "source": []
  }
 ],
 "metadata": {
  "kernelspec": {
   "display_name": "pt_ljl",
   "language": "python",
   "name": "pt_ljl"
  },
  "language_info": {
   "codemirror_mode": {
    "name": "ipython",
    "version": 3
   },
   "file_extension": ".py",
   "mimetype": "text/x-python",
   "name": "python",
   "nbconvert_exporter": "python",
   "pygments_lexer": "ipython3",
   "version": "3.7.11"
  }
 },
 "nbformat": 4,
 "nbformat_minor": 2
}
