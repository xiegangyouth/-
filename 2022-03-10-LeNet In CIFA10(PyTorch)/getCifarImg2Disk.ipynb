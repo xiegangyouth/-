{
 "cells": [
  {
   "cell_type": "code",
   "execution_count": 12,
   "metadata": {},
   "outputs": [],
   "source": [
    "import pickle # 可以将对象以文件的形式存放在磁盘上\n",
    "import glob # python自带的一个操作文件的相关模块\n",
    "import os\n",
    "import cv2\n",
    "import numpy as np"
   ]
  },
  {
   "cell_type": "code",
   "execution_count": 4,
   "metadata": {},
   "outputs": [],
   "source": [
    "\"\"\"\n",
    "定义读取数据集文件的函数\n",
    "\"\"\"\n",
    "def LOAD_CIFAR_DATA(file_path):\n",
    "    with open(file_path, 'rb') as f:\n",
    "        dict = pickle.load(f, encoding='bytes')\n",
    "    return dict"
   ]
  },
  {
   "cell_type": "code",
   "execution_count": 5,
   "metadata": {},
   "outputs": [],
   "source": [
    "\"\"\"\n",
    "定义读取标签文件的函数\n",
    "\"\"\"\n",
    "def LOAD_CIFAR_LABELS(file_name):\n",
    "    with open(file_name, 'rb') as f:\n",
    "        obj = pickle.load(f)\n",
    "    return obj['label_names']"
   ]
  },
  {
   "cell_type": "code",
   "execution_count": 6,
   "metadata": {},
   "outputs": [],
   "source": [
    "\"\"\"\n",
    "获取标签集\n",
    "\"\"\"\n",
    "root_path = './data/cifar-10-batches-py/'\n",
    "file_name = 'batches.meta'\n",
    "label_name = LOAD_CIFAR_LABELS(root_path + file_name)"
   ]
  },
  {
   "cell_type": "code",
   "execution_count": 19,
   "metadata": {},
   "outputs": [],
   "source": [
    "\"\"\"\n",
    "获取训练图片集\n",
    "\"\"\"\n",
    "def getImg2Disk(img_file_list, save_path):\n",
    "    train_list = img_file_list # 获取图片集文件路径\n",
    "    save_path = save_path # 声明图片保存路径\n",
    "    \n",
    "    for item in train_list:\n",
    "        i_dict = LOAD_CIFAR_DATA(item)\n",
    "#         print(i_dict.keys()) #返回dict_keys([b'batch_label', b'labels', b'data', b'filenames'])\n",
    "        \n",
    "        for img_idx, img_data in enumerate(i_dict[b'data']): #遍历列表中所有图片数据（在cifar中图片数据都是以一维向量存储）\n",
    "            img_label_index = i_dict[b'labels'][img_idx] #获取当前数据的对应标签对应的索引\n",
    "            img_filename = i_dict[b'filenames'][img_idx] #获取当前数据的文件名\n",
    "            \n",
    "            print(img_idx, img_filename, img_label_index, img_data)\n",
    "            \n",
    "            img_label_name = label_name[img_label_index] #根据标签索引获取对应标签名称\n",
    "            img_data = np.reshape(img_data, [3, 32, 32]) #将图片数据转为C@HxW的格式\n",
    "            img_data = np.transpose(img_data, (1, 2, 0)) #转为HxW@C的格式\n",
    "            \n",
    "            if not os.path.exists(os.path.join(save_path,img_label_name)):\n",
    "                os.makedirs(os.path.join(save_path,img_label_name))\n",
    "            cv2.imwrite(os.path.join(save_path,img_label_name, img_filename.decode('utf-8')),\n",
    "                       img_data) #由于原始文件中图片名以byte格式存储，这里需转为utf-8            "
   ]
  }
 ],
 "metadata": {
  "kernelspec": {
   "display_name": "pt_ljl",
   "language": "python",
   "name": "pt_ljl"
  },
  "language_info": {
   "codemirror_mode": {
    "name": "ipython",
    "version": 3
   },
   "file_extension": ".py",
   "mimetype": "text/x-python",
   "name": "python",
   "nbconvert_exporter": "python",
   "pygments_lexer": "ipython3",
   "version": "3.7.11"
  }
 },
 "nbformat": 4,
 "nbformat_minor": 2
}
