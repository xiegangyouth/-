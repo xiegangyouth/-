{
 "cells": [
  {
   "cell_type": "code",
   "execution_count": 1,
   "metadata": {},
   "outputs": [],
   "source": [
    "import torch\n",
    "import torch.nn as nn\n",
    "import torch.nn.functional as F"
   ]
  },
  {
   "cell_type": "code",
   "execution_count": 2,
   "metadata": {},
   "outputs": [],
   "source": [
    "class LeNet(nn.Module):\n",
    "    def __init__(self):\n",
    "        super(LeNet, self).__init__()\n",
    "        self.conv1 = nn.Conv2d(in_channels=3, out_channels=16, kernel_size=5, stride=1, padding=0)\n",
    "        self.pool1 = nn.MaxPool2d(kernel_size=2, stride=2)\n",
    "        self.conv2 = nn.Conv2d(16, 32, 5)\n",
    "        self.pool2 = nn.MaxPool2d(2, 2)\n",
    "        self.fc1 = nn.Linear(32*5*5, 120)\n",
    "        self.fc2 = nn.Linear(120, 84)\n",
    "        self.fc3 = nn.Linear(84, 10)\n",
    "        \n",
    "    def forward(self, x):# (3, 32, 32)\n",
    "        x = F.relu(self.conv1(x)) # (16, 28, 28)\n",
    "        x = self.pool1(x) # (16, 14, 14)\n",
    "        x = F.relu(self.conv2(x)) # (32, 10, 10)\n",
    "        x = self.pool2(x) # (32, 5, 5)\n",
    "        x = x.view(-1, 32*5*5) # 展平（pytorch中Tensor的通道排序：[batch, channel, height, width]）\n",
    "        x = F.relu(self.fc1(x)) # (120)\n",
    "        x = F.relu(self.fc2(x)) # (84)\n",
    "        x = self.fc3(x) # (10)\n",
    "        return x"
   ]
  }
 ],
 "metadata": {
  "kernelspec": {
   "display_name": "pt_ljl",
   "language": "python",
   "name": "pt_ljl"
  },
  "language_info": {
   "codemirror_mode": {
    "name": "ipython",
    "version": 3
   },
   "file_extension": ".py",
   "mimetype": "text/x-python",
   "name": "python",
   "nbconvert_exporter": "python",
   "pygments_lexer": "ipython3",
   "version": "3.7.11"
  }
 },
 "nbformat": 4,
 "nbformat_minor": 2
}
